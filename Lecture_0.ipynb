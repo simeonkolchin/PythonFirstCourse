{
 "cells": [
  {
   "cell_type": "markdown",
   "source": [],
   "metadata": {
    "collapsed": false
   },
   "id": "9b5327e23a9efac1"
  },
  {
   "cell_type": "markdown",
   "source": [
    "Всем привет! На всякий случай дам чуть-чуть материалов, о которых просили на лекции:\n",
    "\n",
    "1. Что посмотреть прям с самых азов по Python (осторожно, английский, если прям надо на русском, то пишите мне): \n",
    "\n",
    "https://academy.yandex.ru/handbook/python\n",
    "https://pymbook.readthedocs.io/en/latest/\n",
    "https://python-course.eu/python-tutorial/\n",
    "https://github.com/Asabeneh/30-Days-Of-Python\n",
    "https://docs.python.org/3/library/stdtypes.html (документация, в целом подробная)\n",
    "\n",
    "2. Что посмотреть про устройство Python:\n",
    "\n",
    "https://github.com/python/cpython\n",
    "И прикладываю книгу про Cpython internals"
   ],
   "metadata": {
    "collapsed": false
   },
   "id": "e6a9a32eaad4d585"
  }
 ],
 "metadata": {
  "kernelspec": {
   "display_name": "Python 3",
   "language": "python",
   "name": "python3"
  },
  "language_info": {
   "codemirror_mode": {
    "name": "ipython",
    "version": 2
   },
   "file_extension": ".py",
   "mimetype": "text/x-python",
   "name": "python",
   "nbconvert_exporter": "python",
   "pygments_lexer": "ipython2",
   "version": "2.7.6"
  }
 },
 "nbformat": 4,
 "nbformat_minor": 5
}
