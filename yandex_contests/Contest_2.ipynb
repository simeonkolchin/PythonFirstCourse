{
 "cells": [
  {
   "cell_type": "markdown",
   "source": [
    "**Название**\n",
    "Текст\n",
    "\n",
    "**Формат ввода**\n",
    "Ввод\n",
    "\n",
    "**Формат вывода**\n",
    "Вывод\n",
    "\n",
    "**Пример**\n",
    "Ввод: \n",
    "\n",
    "\n",
    "Вывод:"
   ],
   "metadata": {
    "collapsed": false
   },
   "id": "aea406043bdbbc51"
  },
  {
   "cell_type": "markdown",
   "source": [
    "**A. Делаем срезы**\n",
    "\n",
    "**Формат ввода**\n",
    "Дана строка.\n",
    "\n",
    "**Формат вывода**\n",
    "Сначала выведите третий символ этой строки. Во второй строке выведите предпоследний символ этой строки. В третьей строке выведите первые пять символов этой строки. В четвертой строке выведите всю строку, кроме последних двух символов. В пятой строке выведите все символы с четными индексами (считая, что индексация начинается с 0, поэтому символы выводятся начиная с первого). В шестой строке выведите все символы с нечетными индексами, то есть начиная со второго символа строки. В седьмой строке выведите все символы в обратном порядке. В восьмой строке выведите все символы строки через один в обратном порядке, начиная с последнего. В девятой строке выведите длину данной строки.\n",
    "\n",
    "**Пример**\n",
    "Ввод: \n",
    "Abrakadabra\n",
    "\n",
    "Вывод:\n",
    "r\n",
    "r\n",
    "Abrak\n",
    "Abrakadab\n",
    "Arkdba\n",
    "baaar\n",
    "arbadakarbA\n",
    "abdkrA\n",
    "11\n"
   ],
   "metadata": {
    "collapsed": false
   },
   "id": "36e38cdd4edf72d7"
  },
  {
   "cell_type": "code",
   "execution_count": null,
   "outputs": [],
   "source": [
    "s = input()\n",
    "if len(s) >= 3:\n",
    "    print(s[2])\n",
    "if len(s) >= 2:\n",
    "    print(s[-2])\n",
    "print(s[:5])\n",
    "print(s[:len(s) - 2])\n",
    "print(s[::2])\n",
    "print(s[1::2])\n",
    "k = s[::-1]\n",
    "print(k)\n",
    "print(k[::2])\n",
    "print(len(s))"
   ],
   "metadata": {
    "collapsed": false
   },
   "id": "2499e4a8e89d5cc3"
  },
  {
   "cell_type": "markdown",
   "source": [
    "**B. Количество слов**\n",
    "Дана строка, состоящая из слов, разделенных пробелами. Определите, сколько в ней слов. Гарантируется, что в строке не встречается несколько пробелов подряд.\n",
    "\n",
    "**Формат ввода**\n",
    "Вводится строка.\n",
    "\n",
    "**Формат вывода**\n",
    "Выведите ответ на задачу."
   ],
   "metadata": {
    "collapsed": false
   },
   "id": "81d09d8cbd312794"
  },
  {
   "cell_type": "code",
   "execution_count": null,
   "outputs": [],
   "source": [
    "s = input().split()\n",
    "print(len(s))"
   ],
   "metadata": {
    "collapsed": false
   },
   "id": "c6aa8a52358bd71a"
  },
  {
   "cell_type": "markdown",
   "source": [
    "**C. Первое и последнее вхождение**\n",
    "Дана строка. Если в этом числе буква f встречается только один раз, выведите её индекс. Если она встречается два и более раз, выведите индекс её первого и последнего появления. Если буква f в данной строке не встречается, ничего не выводите. При решении этой задачи нельзя использовать метод count и циклы.\n",
    "\n",
    "**Формат ввода**\n",
    "Вводится строка.\n",
    "\n",
    "**Формат вывода**\n",
    "Выведите ответ на задачу.\n",
    "\n",
    "**Пример**\n",
    "Ввод: \n",
    "comfort\n",
    "\n",
    "Вывод:\n",
    "3"
   ],
   "metadata": {
    "collapsed": false
   },
   "id": "bad6187826b3751a"
  },
  {
   "cell_type": "code",
   "execution_count": null,
   "outputs": [],
   "source": [
    "s = input()\n",
    "if 'f' in s:\n",
    "    ind_l = s.index('f')\n",
    "    ind_r = s.rindex('f')\n",
    "    if ind_l == ind_r:\n",
    "        print(ind_l)\n",
    "    else:\n",
    "        print(ind_l, ind_r)"
   ],
   "metadata": {
    "collapsed": false
   },
   "id": "23ffc1e0ee0dc978"
  },
  {
   "cell_type": "markdown",
   "source": [
    "**D. Второе вхождение**\n",
    "Дана строка. Найдите в этой строке второе вхождение буквы f, и выведите индекс этого вхождения. Если буква f в данной строке встречается только один раз, выведите число -1, а если не встречается ни разу, выведите число -2.\n",
    "\n",
    "**Формат ввода**\n",
    "Вводится строка.\n",
    "\n",
    "**Формат вывода**\n",
    "Выведите ответ на задачу.\n"
   ],
   "metadata": {
    "collapsed": false
   },
   "id": "df2e3697a2f78d0b"
  },
  {
   "cell_type": "code",
   "execution_count": null,
   "outputs": [],
   "source": [
    "s = input()\n",
    "k = 0\n",
    "for i in range(len(s)):\n",
    "    if 'f' == s[i]:\n",
    "        k += 1\n",
    "    if k == 2:\n",
    "        print(i)\n",
    "        break\n",
    "if k == 0:\n",
    "    print(-2)\n",
    "if k == 1:\n",
    "    print(-1)"
   ],
   "metadata": {
    "collapsed": false
   },
   "id": "b85d2c156b5c3aff"
  },
  {
   "cell_type": "markdown",
   "source": [
    "**E. Удалить каждый третий символ**\n",
    "Дана строка. Удалите из нее все символы, чьи индексы делятся на 3. Символы строки нумеруются, начиная с нуля.\n",
    "\n",
    "**Формат ввода**\n",
    "Вводится строка.\n",
    "\n",
    "**Формат вывода**\n",
    "Выведите ответ на задачу.\n",
    "\n",
    "**Пример**\n",
    "Ввод: \n",
    "Python\n",
    "\n",
    "Вывод:\n",
    "yton\n"
   ],
   "metadata": {
    "collapsed": false
   },
   "id": "afa671fe41cb9503"
  },
  {
   "cell_type": "code",
   "execution_count": null,
   "outputs": [],
   "source": [
    "s = input()\n",
    "ans = ''\n",
    "for i in range(len(s)):\n",
    "    if i % 3 == 0:\n",
    "        continue\n",
    "    ans += s[i]\n",
    "print(ans)"
   ],
   "metadata": {
    "collapsed": false
   },
   "id": "9b2ac0c964bea7f"
  },
  {
   "cell_type": "markdown",
   "source": [
    "**F. Четные индексы**\n",
    "Выведите все элементы списка с четными индексами (то есть A[0], A[2], A[4], ...). Программа должна быть эффективной и не выполнять лишних действий!\n",
    "\n",
    "**Формат ввода**\n",
    "Вводится список чисел. Все числа списка находятся на одной строке.\n",
    "\n",
    "**Формат вывода**\n",
    "Выведите ответ на задачу.\n",
    "\n",
    "**Пример**\n",
    "Ввод: \n",
    "1 2 3 4 5\n",
    "\n",
    "Вывод:\n",
    "1 3 5 \n"
   ],
   "metadata": {
    "collapsed": false
   },
   "id": "c05eedfcae4a55c7"
  },
  {
   "cell_type": "code",
   "execution_count": null,
   "outputs": [],
   "source": [
    "print(*[i for i in input().split()[::2]])"
   ],
   "metadata": {
    "collapsed": false
   },
   "id": "dd2ced4384e96883"
  },
  {
   "cell_type": "markdown",
   "source": [],
   "metadata": {
    "collapsed": false
   },
   "id": "3a971cb1faea8456"
  }
 ],
 "metadata": {
  "kernelspec": {
   "display_name": "Python 3",
   "language": "python",
   "name": "python3"
  },
  "language_info": {
   "codemirror_mode": {
    "name": "ipython",
    "version": 2
   },
   "file_extension": ".py",
   "mimetype": "text/x-python",
   "name": "python",
   "nbconvert_exporter": "python",
   "pygments_lexer": "ipython2",
   "version": "2.7.6"
  }
 },
 "nbformat": 4,
 "nbformat_minor": 5
}
